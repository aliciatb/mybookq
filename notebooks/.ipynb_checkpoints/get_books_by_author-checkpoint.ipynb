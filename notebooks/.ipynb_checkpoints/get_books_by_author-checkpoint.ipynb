{
 "cells": [
  {
   "cell_type": "markdown",
   "metadata": {},
   "source": [
    "# Get Books\n",
    "* Return books for authors using different APIs"
   ]
  },
  {
   "cell_type": "code",
   "execution_count": 95,
   "metadata": {},
   "outputs": [],
   "source": [
    "import json\n",
    "import pandas as pd\n",
    "from pandas.io.json import json_normalize\n",
    "import requests\n",
    "import yaml"
   ]
  },
  {
   "cell_type": "code",
   "execution_count": 42,
   "metadata": {},
   "outputs": [],
   "source": [
    "google_key_file = \"/Users/alicia.brown/google_books.yaml\"\n",
    "with open(google_key_file, 'r') as stream:\n",
    "    google_config = yaml.load(stream)\n",
    "    google_key = google_config['key']"
   ]
  },
  {
   "cell_type": "code",
   "execution_count": 6,
   "metadata": {},
   "outputs": [],
   "source": [
    "authors_file = \"../data/books - authors.csv\"\n",
    "authors = pd.read_csv(authors_file)"
   ]
  },
  {
   "cell_type": "markdown",
   "metadata": {},
   "source": [
    "## Google Books\n",
    "* https://www.googleapis.com/books/v1/volumes?q=inauthor:louise+penny&langRestrict=en&orderBy=newest&maxresults=4"
   ]
  },
  {
   "cell_type": "code",
   "execution_count": 99,
   "metadata": {},
   "outputs": [],
   "source": [
    "def getGoogleBooks(author_first, author_last, max_results):\n",
    "    url = \"https://www.googleapis.com/books/v1/volumes?q=inauthor:\" + author_first + \"+\" + author_last + \"&langRestrict=en&orderBy=newest&maxresults=\" + max_results + \"&key=\" + google_key\n",
    "    req = requests.get(url)\n",
    "    results = json.loads(req.text)\n",
    "    df = json_normalize(results['items'])\n",
    "    return df"
   ]
  },
  {
   "cell_type": "code",
   "execution_count": 100,
   "metadata": {},
   "outputs": [],
   "source": [
    "df_results = getGoogleBooks(\"louise\",\"penny\",\"50\")"
   ]
  },
  {
   "cell_type": "code",
   "execution_count": 115,
   "metadata": {},
   "outputs": [
    {
     "data": {
      "text/html": [
       "<div>\n",
       "<style scoped>\n",
       "    .dataframe tbody tr th:only-of-type {\n",
       "        vertical-align: middle;\n",
       "    }\n",
       "\n",
       "    .dataframe tbody tr th {\n",
       "        vertical-align: top;\n",
       "    }\n",
       "\n",
       "    .dataframe thead th {\n",
       "        text-align: right;\n",
       "    }\n",
       "</style>\n",
       "<table border=\"1\" class=\"dataframe\">\n",
       "  <thead>\n",
       "    <tr style=\"text-align: right;\">\n",
       "      <th></th>\n",
       "      <th>volumeInfo.authors</th>\n",
       "      <th>volumeInfo.title</th>\n",
       "      <th>volumeInfo.publishedDate</th>\n",
       "      <th>volumeInfo.description</th>\n",
       "      <th>searchInfo.textSnippet</th>\n",
       "    </tr>\n",
       "  </thead>\n",
       "  <tbody>\n",
       "    <tr>\n",
       "      <th>0</th>\n",
       "      <td>[Louise Penny]</td>\n",
       "      <td>Untitled Louise Penny 2</td>\n",
       "      <td>2018-11-27</td>\n",
       "      <td>NaN</td>\n",
       "      <td>The entrancing new crime thriller featuring Ch...</td>\n",
       "    </tr>\n",
       "    <tr>\n",
       "      <th>1</th>\n",
       "      <td>[Louise Penny]</td>\n",
       "      <td>Kingdom of the Blind</td>\n",
       "      <td>2018-11-27</td>\n",
       "      <td>The new Chief Inspector Gamache novel from the...</td>\n",
       "      <td>The new Chief Inspector Gamache novel from the...</td>\n",
       "    </tr>\n",
       "    <tr>\n",
       "      <th>6</th>\n",
       "      <td>[Louise Penny]</td>\n",
       "      <td>Kingdom of the Blind</td>\n",
       "      <td>2018-11-27</td>\n",
       "      <td>NaN</td>\n",
       "      <td>NaN</td>\n",
       "    </tr>\n",
       "    <tr>\n",
       "      <th>8</th>\n",
       "      <td>[LOUISE. PENNY]</td>\n",
       "      <td>Kingdom of the Blind</td>\n",
       "      <td>2018-11-27</td>\n",
       "      <td>The entrancing new crime thriller featuring Ch...</td>\n",
       "      <td>The entrancing new crime thriller featuring Ch...</td>\n",
       "    </tr>\n",
       "    <tr>\n",
       "      <th>9</th>\n",
       "      <td>[Louise Penny]</td>\n",
       "      <td>Untitled Louise Penny 2</td>\n",
       "      <td>2018-11-27</td>\n",
       "      <td>NaN</td>\n",
       "      <td>NaN</td>\n",
       "    </tr>\n",
       "    <tr>\n",
       "      <th>2</th>\n",
       "      <td>[Louise Penny]</td>\n",
       "      <td>Glass Houses</td>\n",
       "      <td>2018-05-01</td>\n",
       "      <td>An instant New York Times Bestseller and Augus...</td>\n",
       "      <td>An instant New York Times Bestseller and Augus...</td>\n",
       "    </tr>\n",
       "    <tr>\n",
       "      <th>3</th>\n",
       "      <td>[Penny Tassoni, Louise Burnham]</td>\n",
       "      <td>CACHE Level 2 Award in Child Development and Care</td>\n",
       "      <td>2017-11-17</td>\n",
       "      <td>Help students build knowledge and prepare for ...</td>\n",
       "      <td>Help students build knowledge and prepare for ...</td>\n",
       "    </tr>\n",
       "    <tr>\n",
       "      <th>4</th>\n",
       "      <td>[Louise Penny]</td>\n",
       "      <td>Glass Houses</td>\n",
       "      <td>2017-08-29</td>\n",
       "      <td>An instant New York Times Bestseller and Augus...</td>\n",
       "      <td>An instant New York Times Bestseller and Augus...</td>\n",
       "    </tr>\n",
       "    <tr>\n",
       "      <th>5</th>\n",
       "      <td>[Louise Penny]</td>\n",
       "      <td>Glass Houses</td>\n",
       "      <td>2017-08-29</td>\n",
       "      <td>An August 2017 LibraryReads pick! When a myste...</td>\n",
       "      <td>When a mysterious figure travels through Three...</td>\n",
       "    </tr>\n",
       "    <tr>\n",
       "      <th>7</th>\n",
       "      <td>[Louise Penny]</td>\n",
       "      <td>Glass Houses</td>\n",
       "      <td>2017-08-29</td>\n",
       "      <td>The NUMBER ONE New York Times bestseller One c...</td>\n",
       "      <td>. . Gripping, surprising and powerful, Glass H...</td>\n",
       "    </tr>\n",
       "  </tbody>\n",
       "</table>\n",
       "</div>"
      ],
      "text/plain": [
       "                volumeInfo.authors  \\\n",
       "0                   [Louise Penny]   \n",
       "1                   [Louise Penny]   \n",
       "6                   [Louise Penny]   \n",
       "8                  [LOUISE. PENNY]   \n",
       "9                   [Louise Penny]   \n",
       "2                   [Louise Penny]   \n",
       "3  [Penny Tassoni, Louise Burnham]   \n",
       "4                   [Louise Penny]   \n",
       "5                   [Louise Penny]   \n",
       "7                   [Louise Penny]   \n",
       "\n",
       "                                    volumeInfo.title volumeInfo.publishedDate  \\\n",
       "0                            Untitled Louise Penny 2               2018-11-27   \n",
       "1                               Kingdom of the Blind               2018-11-27   \n",
       "6                               Kingdom of the Blind               2018-11-27   \n",
       "8                               Kingdom of the Blind               2018-11-27   \n",
       "9                            Untitled Louise Penny 2               2018-11-27   \n",
       "2                                       Glass Houses               2018-05-01   \n",
       "3  CACHE Level 2 Award in Child Development and Care               2017-11-17   \n",
       "4                                       Glass Houses               2017-08-29   \n",
       "5                                       Glass Houses               2017-08-29   \n",
       "7                                       Glass Houses               2017-08-29   \n",
       "\n",
       "                              volumeInfo.description  \\\n",
       "0                                                NaN   \n",
       "1  The new Chief Inspector Gamache novel from the...   \n",
       "6                                                NaN   \n",
       "8  The entrancing new crime thriller featuring Ch...   \n",
       "9                                                NaN   \n",
       "2  An instant New York Times Bestseller and Augus...   \n",
       "3  Help students build knowledge and prepare for ...   \n",
       "4  An instant New York Times Bestseller and Augus...   \n",
       "5  An August 2017 LibraryReads pick! When a myste...   \n",
       "7  The NUMBER ONE New York Times bestseller One c...   \n",
       "\n",
       "                              searchInfo.textSnippet  \n",
       "0  The entrancing new crime thriller featuring Ch...  \n",
       "1  The new Chief Inspector Gamache novel from the...  \n",
       "6                                                NaN  \n",
       "8  The entrancing new crime thriller featuring Ch...  \n",
       "9                                                NaN  \n",
       "2  An instant New York Times Bestseller and Augus...  \n",
       "3  Help students build knowledge and prepare for ...  \n",
       "4  An instant New York Times Bestseller and Augus...  \n",
       "5  When a mysterious figure travels through Three...  \n",
       "7  . . Gripping, surprising and powerful, Glass H...  "
      ]
     },
     "execution_count": 115,
     "metadata": {},
     "output_type": "execute_result"
    }
   ],
   "source": [
    "df_results[['volumeInfo.authors','volumeInfo.title','volumeInfo.publishedDate','volumeInfo.description','searchInfo.textSnippet']].sort_values(by=['volumeInfo.publishedDate'], ascending = False)"
   ]
  },
  {
   "cell_type": "code",
   "execution_count": null,
   "metadata": {},
   "outputs": [],
   "source": []
  }
 ],
 "metadata": {
  "kernelspec": {
   "display_name": "Python 3",
   "language": "python",
   "name": "python3"
  },
  "language_info": {
   "codemirror_mode": {
    "name": "ipython",
    "version": 3
   },
   "file_extension": ".py",
   "mimetype": "text/x-python",
   "name": "python",
   "nbconvert_exporter": "python",
   "pygments_lexer": "ipython3",
   "version": "3.6.4"
  }
 },
 "nbformat": 4,
 "nbformat_minor": 2
}
